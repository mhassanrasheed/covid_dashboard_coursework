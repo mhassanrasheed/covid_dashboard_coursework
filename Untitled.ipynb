{
 "cells": [
  {
   "cell_type": "code",
   "execution_count": 2,
   "metadata": {},
   "outputs": [],
   "source": [
    "import ipywidgets as wdg\n",
    "import pandas as pd\n",
    "import numpy as np\n",
    "import matplotlib.pyplot as plt\n",
    "import json\n",
    "from uk_covid19 import Cov19API"
   ]
  },
  {
   "cell_type": "code",
   "execution_count": 3,
   "metadata": {},
   "outputs": [],
   "source": [
    "# !pip install voila"
   ]
  },
  {
   "cell_type": "code",
   "execution_count": 4,
   "metadata": {},
   "outputs": [],
   "source": [
    "states = [\"England\", \"Northern Ireland\", \"Scotland\", \"Wales\"]"
   ]
  },
  {
   "cell_type": "code",
   "execution_count": 5,
   "metadata": {},
   "outputs": [],
   "source": [
    "def access_api(state):\n",
    "    filters = {\n",
    "        'areaType=nation',\n",
    "        f'areaName={state}'\n",
    "    }\n",
    "    structure = {\n",
    "        \"date\": \"date\",\n",
    "        \"name\":\"areaName\",\n",
    "        \"Cases\": \"newCasesByPublishDate\",\n",
    "#         \"totalCases\": \"cumCasesByPublishDate\",\n",
    "#         \"newCases\": \"newCasesByPublishDate\",\n",
    "#         \"totalCases\": \"cumCasesByPublishDate\",\n",
    "        \"Deaths\": \"newDeathsByDeathDate\"\n",
    "#         \"totalDeaths\": \"cumDeathsByDeathDate\"\n",
    "    }\n",
    "    api = Cov19API(filters=filters, structure=structure)\n",
    "    return api.get_json()"
   ]
  },
  {
   "cell_type": "code",
   "execution_count": 6,
   "metadata": {},
   "outputs": [],
   "source": [
    "def wrangle_data(data):\n",
    "    data = data['data']\n",
    "#     print(\"data is \", data)\n",
    "    dates = [dictionary['date'] for dictionary in data]\n",
    "    dates.sort()\n",
    "\n",
    "    def parse_date(datestring):\n",
    "        \"\"\" Convert a date string into a pandas datetime object \"\"\"\n",
    "        return pd.to_datetime(datestring, format=\"%Y-%m-%d\")\n",
    "\n",
    "    startdate=parse_date(dates[0])\n",
    "    enddate=parse_date(dates[-1])\n",
    "    \n",
    "    index=pd.date_range(startdate, enddate, freq='d')\n",
    "    # timeseriesdf=pd.DataFrame(index=index, columns=[data['name'], data['cases'], data['deaths']])\n",
    "#     timeseriesdf=pd.DataFrame(index=index, columns=['newCases', 'totalCases', 'newDeaths', 'totalDeaths'])\n",
    "    timeseriesdf=pd.DataFrame(index=index, columns=['Cases','Deaths'])\n",
    "#     print(timeseriesdf)\n",
    "    for entry in data:  # each entry is a dictionary with date, cases, hospital and deaths\n",
    "        date = parse_date(entry['date'])\n",
    "        for column in  ['Cases','Deaths']:\n",
    "            # check that nothing is there yet - just in case some dates are duplicated,\n",
    "            # maybe with data for different columns in each entry\n",
    "            if pd.isna(timeseriesdf.loc[date, column]):\n",
    "                # replace None with 0 in our data\n",
    "                # print(type(column), column)\n",
    "                value = float(entry[column]) if entry[column] != None else 0.0\n",
    "                # this is the way you access a specific location in the dataframe - use .loc\n",
    "                # and put index,column in a single set of [ ]\n",
    "                timeseriesdf.loc[date, column] = value\n",
    "\n",
    "    timeseriesdf.fillna(0.0, inplace=True)\n",
    "#     print(timeseriesdf)\n",
    "    return timeseriesdf\n"
   ]
  },
  {
   "cell_type": "code",
   "execution_count": 7,
   "metadata": {},
   "outputs": [],
   "source": [
    "def plot_random_walk(walk):\n",
    "    df[walk].plot()\n",
    "    \n",
    "whichwalk = wdg.Dropdown(\n",
    "    options=['Cases', 'Deaths'],\n",
    "    value='Cases',\n",
    "    description='Stats: ',\n",
    "    disabled=False,\n",
    ")\n",
    "def refresh_graph():\n",
    "    current = whichwalk.value\n",
    "    if current == whichwalk.options[0]:\n",
    "        other = whichwalk.options[1]\n",
    "    else:\n",
    "        other = whichwalk.options[0]\n",
    "    whichwalk.value = other  # forces the redraw\n",
    "    whichwalk.value = current  # now we can change it back\n",
    "\n",
    "    \n",
    "refresh_graph()"
   ]
  },
  {
   "cell_type": "code",
   "execution_count": 8,
   "metadata": {},
   "outputs": [],
   "source": [
    "apibutton = wdg.Button(\n",
    "    description='Show Data',  # you may want to change this...\n",
    "    disabled=False,\n",
    "    button_style='info',  # 'success', 'info', 'warning', 'danger' or ''\n",
    "    tooltip=\"Keep calm and carry on\",\n",
    "    # FontAwesome names without the `fa-` prefix - try \"download\"\n",
    "    icon='exclamation-triangle'\n",
    ")"
   ]
  },
  {
   "cell_type": "code",
   "execution_count": 9,
   "metadata": {},
   "outputs": [],
   "source": [
    "def main(button):\n",
    "    for state in states:\n",
    "        data = access_api(state)\n",
    "    #     print(data)\n",
    "        global df\n",
    "        df = wrangle_data(data)\n",
    "    #     print(df)\n",
    "        refresh_graph()\n",
    "    #     print(df)\n",
    "        apibutton.icon = \"check\"\n",
    "        graph = wdg.interactive_output(plot_random_walk, {'walk': whichwalk})\n",
    "        display(whichwalk, graph)"
   ]
  },
  {
   "cell_type": "code",
   "execution_count": 10,
   "metadata": {},
   "outputs": [
    {
     "data": {
      "application/vnd.jupyter.widget-view+json": {
       "model_id": "3472973b3a14432b9195b87c36622482",
       "version_major": 2,
       "version_minor": 0
      },
      "text/plain": [
       "Button(button_style='info', description='Show Data', icon='exclamation-triangle', style=ButtonStyle(), tooltip…"
      ]
     },
     "metadata": {},
     "output_type": "display_data"
    },
    {
     "data": {
      "application/vnd.jupyter.widget-view+json": {
       "model_id": "856b69b5bc6f451aa61ed06b21b4dc31",
       "version_major": 2,
       "version_minor": 0
      },
      "text/plain": [
       "Dropdown(description='Stats: ', options=('Cases', 'Deaths'), value='Cases')"
      ]
     },
     "metadata": {},
     "output_type": "display_data"
    },
    {
     "data": {
      "application/vnd.jupyter.widget-view+json": {
       "model_id": "c067b678ae3d4d07a5e161f3b2225b77",
       "version_major": 2,
       "version_minor": 0
      },
      "text/plain": [
       "Output()"
      ]
     },
     "metadata": {},
     "output_type": "display_data"
    },
    {
     "data": {
      "application/vnd.jupyter.widget-view+json": {
       "model_id": "856b69b5bc6f451aa61ed06b21b4dc31",
       "version_major": 2,
       "version_minor": 0
      },
      "text/plain": [
       "Dropdown(description='Stats: ', options=('Cases', 'Deaths'), value='Cases')"
      ]
     },
     "metadata": {},
     "output_type": "display_data"
    },
    {
     "data": {
      "application/vnd.jupyter.widget-view+json": {
       "model_id": "8b89a31cc9f846a3985f47127be0758d",
       "version_major": 2,
       "version_minor": 0
      },
      "text/plain": [
       "Output()"
      ]
     },
     "metadata": {},
     "output_type": "display_data"
    },
    {
     "data": {
      "application/vnd.jupyter.widget-view+json": {
       "model_id": "856b69b5bc6f451aa61ed06b21b4dc31",
       "version_major": 2,
       "version_minor": 0
      },
      "text/plain": [
       "Dropdown(description='Stats: ', options=('Cases', 'Deaths'), value='Cases')"
      ]
     },
     "metadata": {},
     "output_type": "display_data"
    },
    {
     "data": {
      "application/vnd.jupyter.widget-view+json": {
       "model_id": "5787b4083e244437bda8fb7cf9e4c4bc",
       "version_major": 2,
       "version_minor": 0
      },
      "text/plain": [
       "Output()"
      ]
     },
     "metadata": {},
     "output_type": "display_data"
    }
   ],
   "source": [
    "apibutton.on_click(main)  # the name of your function inside these brackets\n",
    "display(apibutton)\n",
    "# print(df)"
   ]
  },
  {
   "cell_type": "code",
   "execution_count": 11,
   "metadata": {},
   "outputs": [],
   "source": [
    "# print(df)"
   ]
  }
 ],
 "metadata": {
  "kernelspec": {
   "display_name": "Python 3",
   "language": "python",
   "name": "python3"
  },
  "language_info": {
   "codemirror_mode": {
    "name": "ipython",
    "version": 3
   },
   "file_extension": ".py",
   "mimetype": "text/x-python",
   "name": "python",
   "nbconvert_exporter": "python",
   "pygments_lexer": "ipython3",
   "version": "3.8.1"
  }
 },
 "nbformat": 4,
 "nbformat_minor": 4
}
