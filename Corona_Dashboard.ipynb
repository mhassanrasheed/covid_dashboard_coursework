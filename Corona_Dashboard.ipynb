{
 "cells": [
  {
   "cell_type": "code",
   "execution_count": null,
   "metadata": {},
   "outputs": [],
   "source": [
    "# !pip install ipywidgets\n",
    "# !pip install matplotlib\n",
    "# !pip install uk_covid19\n",
    "# !pip install voila\n",
    "# !pip install pandas"
   ]
  },
  {
   "cell_type": "code",
   "execution_count": 105,
   "metadata": {},
   "outputs": [],
   "source": [
    "import ipywidgets as wdg\n",
    "import pandas as pd\n",
    "import numpy as np\n",
    "import matplotlib.pyplot as plt\n",
    "import json\n",
    "from IPython.display import display\n",
    "from uk_covid19 import Cov19API\n",
    "import time"
   ]
  },
  {
   "cell_type": "code",
   "execution_count": 96,
   "metadata": {},
   "outputs": [],
   "source": [
    "%matplotlib inline\n",
    "# make figures larger\n",
    "plt.rcParams['figure.dpi'] = 100"
   ]
  },
  {
   "cell_type": "markdown",
   "metadata": {},
   "source": [
    "#**UK COVID 19 DASHBOARD**"
   ]
  },
  {
   "cell_type": "markdown",
   "metadata": {},
   "source": [
    "*This website is developed to inform the genral public about the corona pandemic. It contains a graph that shows the number of cases reported and how many of them admitted to the hospital*"
   ]
  },
  {
   "cell_type": "code",
   "execution_count": 97,
   "metadata": {},
   "outputs": [],
   "source": [
    "def wrangle_data(data):\n",
    "    data = data['data']\n",
    "#     print(\"data is \", data)\n",
    "    dates = [dictionary['date'] for dictionary in data]\n",
    "    dates.sort()\n",
    "\n",
    "    def parse_date(datestring):\n",
    "        \"\"\" Convert a date string into a pandas datetime object \"\"\"\n",
    "        return pd.to_datetime(datestring, format=\"%Y-%m-%d\")\n",
    "\n",
    "    startdate=parse_date(dates[0])\n",
    "    enddate=parse_date(dates[-1])\n",
    "    \n",
    "    index=pd.date_range(startdate, enddate, freq='d')\n",
    "    df=pd.DataFrame(index=index, columns=['Cases','Admitted'])\n",
    "    for entry in data:  # each entry is a dictionary with date, cases, hospital and deaths\n",
    "        date = parse_date(entry['date'])\n",
    "        for column in  ['Cases','Admitted']:\n",
    "            if pd.isna(df.loc[date, column]):\n",
    "                value = float(entry[column]) if entry[column] != None else 0.0\n",
    "                df.loc[date, column] = value\n",
    "\n",
    "    df.fillna(0.0, inplace=True)\n",
    "    return df"
   ]
  },
  {
   "cell_type": "code",
   "execution_count": 98,
   "metadata": {},
   "outputs": [],
   "source": [
    "def access_api():\n",
    "    filters = {\n",
    "        'areaType=overview',\n",
    "    }\n",
    "    structure = {\n",
    "        \"date\": \"date\",\n",
    "        \"name\":\"areaName\",\n",
    "        \"Cases\": \"newCasesByPublishDate\",\n",
    "        \"Admitted\": \"hospitalCases\"\n",
    "    }\n",
    "    api = Cov19API(filters=filters, structure=structure)\n",
    "    return api.get_json()"
   ]
  },
  {
   "cell_type": "code",
   "execution_count": 99,
   "metadata": {},
   "outputs": [],
   "source": [
    "def gather_data():\n",
    "    with open(\"UK_stats.json\", \"wt\") as Output:\n",
    "        json.dump(access_api(), Output)"
   ]
  },
  {
   "cell_type": "code",
   "execution_count": 111,
   "metadata": {},
   "outputs": [],
   "source": [
    "gather_data()\n",
    "with open(\"UK_stats.json\", \"r\") as t:\n",
    "    data=json.load(t)\n",
    "df=wrangle_data(data)"
   ]
  },
  {
   "cell_type": "code",
   "execution_count": 108,
   "metadata": {},
   "outputs": [
    {
     "data": {
      "application/vnd.jupyter.widget-view+json": {
       "model_id": "3ba1ec275f85409488020c07e41a2121",
       "version_major": 2,
       "version_minor": 0
      },
      "text/plain": [
       "Button(button_style='info', description='Refresh Data', icon='download', style=ButtonStyle(), tooltip='Keep ca…"
      ]
     },
     "metadata": {},
     "output_type": "display_data"
    }
   ],
   "source": [
    "def main(button):\n",
    "    refreshButton.button_style = \"Primary\"\n",
    "    refreshButton.description = \"Refreshing...\"\n",
    "    refreshButton.icon = \"\"\n",
    "    data = gather_data()\n",
    "    with open(\"UK_stats.json\", \"r\") as t:\n",
    "        data=json.load(t)\n",
    "    global df\n",
    "    df = wrangle_data(data)\n",
    "    refresh_graph()\n",
    "    refreshButton.button_style = \"Success\"\n",
    "    refreshButton.description = \"Refreshed\"\n",
    "    refreshButton.icon = \"check\"\n",
    "    time.sleep(1)\n",
    "    refreshButton.button_style = \"info\"\n",
    "    refreshButton.description = \"Refresh data\"\n",
    "    refreshButton.icon = \"download\"\n",
    "    \n",
    "refreshButton = wdg.Button(\n",
    "    description='Refresh Data',  \n",
    "    disabled=False,\n",
    "    button_style='info',  # 'success', 'info', 'warning', 'danger' or ''\n",
    "    tooltip=\"Keep calm and carry on\",\n",
    "    # FontAwesome names without the `fa-` prefix - try \"download\"\n",
    "    icon='download'\n",
    ")\n",
    "\n",
    "refreshButton.on_click(main)  # the name of your function inside these brackets\n",
    "display(refreshButton)\n"
   ]
  },
  {
   "cell_type": "markdown",
   "metadata": {},
   "source": [
    "##**Cases and Hospitalization accross UK per day**"
   ]
  },
  {
   "cell_type": "code",
   "execution_count": 110,
   "metadata": {},
   "outputs": [
    {
     "data": {
      "application/vnd.jupyter.widget-view+json": {
       "model_id": "fa0e98f21cd7487980bfde7439e87939",
       "version_major": 2,
       "version_minor": 0
      },
      "text/plain": [
       "Dropdown(description='Stats: ', options=('Cases', 'Admitted'), value='Cases')"
      ]
     },
     "metadata": {},
     "output_type": "display_data"
    },
    {
     "data": {
      "application/vnd.jupyter.widget-view+json": {
       "model_id": "daac1f24f8454941a86de4c88b04363f",
       "version_major": 2,
       "version_minor": 0
      },
      "text/plain": [
       "Output()"
      ]
     },
     "metadata": {},
     "output_type": "display_data"
    }
   ],
   "source": [
    "def plot_random_walk(option):\n",
    "    df[option].plot()\n",
    "    \n",
    "stats = wdg.Dropdown(\n",
    "    options=['Cases', 'Admitted'],\n",
    "    value='Cases',\n",
    "    description='Stats: ',\n",
    "    disabled=False,\n",
    ")\n",
    "\n",
    "    \n",
    "def refresh_graph():\n",
    "    current = stats.value\n",
    "    if current == stats.options[0]:\n",
    "        other = stats.options[1]\n",
    "    else:\n",
    "        other = stats.options[0]\n",
    "    stats.value = other  \n",
    "    stats.value = current  \n",
    "\n",
    "    \n",
    "graph = wdg.interactive_output(plot_random_walk, {'option': stats})\n",
    "display(stats, graph)"
   ]
  },
  {
   "cell_type": "markdown",
   "metadata": {},
   "source": [
    "The data is gathered from the [Public Health England](https://www.gov.uk/government/organisations/public-health-england) Website."
   ]
  },
  {
   "cell_type": "markdown",
   "metadata": {},
   "source": [
    "Copy Rights Reserved Muhammad Hassan Rasheed"
   ]
  }
 ],
 "metadata": {
  "kernelspec": {
   "display_name": "Python 3",
   "language": "python",
   "name": "python3"
  },
  "language_info": {
   "codemirror_mode": {
    "name": "ipython",
    "version": 3
   },
   "file_extension": ".py",
   "mimetype": "text/x-python",
   "name": "python",
   "nbconvert_exporter": "python",
   "pygments_lexer": "ipython3",
   "version": "3.8.1"
  }
 },
 "nbformat": 4,
 "nbformat_minor": 4
}
